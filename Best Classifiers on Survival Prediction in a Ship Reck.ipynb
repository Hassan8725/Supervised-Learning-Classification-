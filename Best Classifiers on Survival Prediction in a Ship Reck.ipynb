{
 "cells": [
  {
   "cell_type": "code",
   "execution_count": 1,
   "metadata": {},
   "outputs": [
    {
     "name": "stderr",
     "output_type": "stream",
     "text": [
      "E:\\Anaconda\\lib\\site-packages\\sklearn\\externals\\six.py:31: DeprecationWarning: The module is deprecated in version 0.21 and will be removed in version 0.23 since we've dropped support for Python 2.7. Please rely on the official version of six (https://pypi.org/project/six/).\n",
      "  \"(https://pypi.org/project/six/).\", DeprecationWarning)\n"
     ]
    }
   ],
   "source": [
    "# Import basic libraries \n",
    "import os\n",
    "import pandas as pd \n",
    "import numpy as np\n",
    "import seaborn as sns\n",
    "from string import ascii_uppercase\n",
    "from pandas import DataFrame\n",
    "import matplotlib.pyplot as plt        \n",
    "%matplotlib inline\n",
    "\n",
    "import sklearn.preprocessing as skp\n",
    "import sklearn.model_selection as skm\n",
    "import os\n",
    "#import classification modules\n",
    "from sklearn.neighbors import KNeighborsClassifier\n",
    "from sklearn.naive_bayes import GaussianNB\n",
    "from sklearn.linear_model import LogisticRegression\n",
    "from sklearn.neural_network import MLPClassifier\n",
    "from sklearn.svm import SVC\n",
    "from sklearn.tree import DecisionTreeClassifier\n",
    "from sklearn.ensemble import RandomForestClassifier\n",
    "from sklearn.ensemble import GradientBoostingClassifier\n",
    "from sklearn.ensemble import AdaBoostClassifier\n",
    "# Selection\n",
    "from sklearn.model_selection import GridSearchCV as gs\n",
    "from sklearn.model_selection import RandomizedSearchCV as rs\n",
    "from sklearn.model_selection import StratifiedKFold\n",
    "from sklearn.feature_selection import RFECV\n",
    "#import decision tree plotting libraries\n",
    "#might need to run this command in anaconda prompt \"conda install -c conda-forge pydotplus\"\n",
    "from sklearn.externals.six import StringIO  \n",
    "from IPython.display import Image  \n",
    "from sklearn.tree import export_graphviz\n",
    "import pydotplus\n",
    "# Metrics\n",
    "from sklearn.metrics import accuracy_score, confusion_matrix,precision_score, recall_score, roc_auc_score,roc_curve, auc, f1_score "
   ]
  },
  {
   "cell_type": "markdown",
   "metadata": {},
   "source": [
    "# Studying Dataset and Performing Data Wrangling on it"
   ]
  },
  {
   "cell_type": "code",
   "execution_count": 2,
   "metadata": {},
   "outputs": [
    {
     "data": {
      "text/html": [
       "<div>\n",
       "<style scoped>\n",
       "    .dataframe tbody tr th:only-of-type {\n",
       "        vertical-align: middle;\n",
       "    }\n",
       "\n",
       "    .dataframe tbody tr th {\n",
       "        vertical-align: top;\n",
       "    }\n",
       "\n",
       "    .dataframe thead th {\n",
       "        text-align: right;\n",
       "    }\n",
       "</style>\n",
       "<table border=\"1\" class=\"dataframe\">\n",
       "  <thead>\n",
       "    <tr style=\"text-align: right;\">\n",
       "      <th></th>\n",
       "      <th>PassengerId</th>\n",
       "      <th>Survived</th>\n",
       "      <th>Pclass</th>\n",
       "      <th>Name</th>\n",
       "      <th>Sex</th>\n",
       "      <th>Age</th>\n",
       "      <th>SibSp</th>\n",
       "      <th>Parch</th>\n",
       "      <th>Ticket</th>\n",
       "      <th>Fare</th>\n",
       "      <th>Cabin</th>\n",
       "      <th>Embarked</th>\n",
       "    </tr>\n",
       "  </thead>\n",
       "  <tbody>\n",
       "    <tr>\n",
       "      <th>0</th>\n",
       "      <td>1</td>\n",
       "      <td>0</td>\n",
       "      <td>3</td>\n",
       "      <td>Braund, Mr. Owen Harris</td>\n",
       "      <td>male</td>\n",
       "      <td>22.0</td>\n",
       "      <td>1</td>\n",
       "      <td>0</td>\n",
       "      <td>A/5 21171</td>\n",
       "      <td>7.2500</td>\n",
       "      <td>NaN</td>\n",
       "      <td>S</td>\n",
       "    </tr>\n",
       "    <tr>\n",
       "      <th>1</th>\n",
       "      <td>2</td>\n",
       "      <td>1</td>\n",
       "      <td>1</td>\n",
       "      <td>Cumings, Mrs. John Bradley (Florence Briggs Th...</td>\n",
       "      <td>female</td>\n",
       "      <td>38.0</td>\n",
       "      <td>1</td>\n",
       "      <td>0</td>\n",
       "      <td>PC 17599</td>\n",
       "      <td>71.2833</td>\n",
       "      <td>C85</td>\n",
       "      <td>C</td>\n",
       "    </tr>\n",
       "    <tr>\n",
       "      <th>2</th>\n",
       "      <td>3</td>\n",
       "      <td>1</td>\n",
       "      <td>3</td>\n",
       "      <td>Heikkinen, Miss. Laina</td>\n",
       "      <td>female</td>\n",
       "      <td>26.0</td>\n",
       "      <td>0</td>\n",
       "      <td>0</td>\n",
       "      <td>STON/O2. 3101282</td>\n",
       "      <td>7.9250</td>\n",
       "      <td>NaN</td>\n",
       "      <td>S</td>\n",
       "    </tr>\n",
       "    <tr>\n",
       "      <th>3</th>\n",
       "      <td>4</td>\n",
       "      <td>1</td>\n",
       "      <td>1</td>\n",
       "      <td>Futrelle, Mrs. Jacques Heath (Lily May Peel)</td>\n",
       "      <td>female</td>\n",
       "      <td>35.0</td>\n",
       "      <td>1</td>\n",
       "      <td>0</td>\n",
       "      <td>113803</td>\n",
       "      <td>53.1000</td>\n",
       "      <td>C123</td>\n",
       "      <td>S</td>\n",
       "    </tr>\n",
       "    <tr>\n",
       "      <th>4</th>\n",
       "      <td>5</td>\n",
       "      <td>0</td>\n",
       "      <td>3</td>\n",
       "      <td>Allen, Mr. William Henry</td>\n",
       "      <td>male</td>\n",
       "      <td>35.0</td>\n",
       "      <td>0</td>\n",
       "      <td>0</td>\n",
       "      <td>373450</td>\n",
       "      <td>8.0500</td>\n",
       "      <td>NaN</td>\n",
       "      <td>S</td>\n",
       "    </tr>\n",
       "  </tbody>\n",
       "</table>\n",
       "</div>"
      ],
      "text/plain": [
       "   PassengerId  Survived  Pclass  \\\n",
       "0            1         0       3   \n",
       "1            2         1       1   \n",
       "2            3         1       3   \n",
       "3            4         1       1   \n",
       "4            5         0       3   \n",
       "\n",
       "                                                Name     Sex   Age  SibSp  \\\n",
       "0                            Braund, Mr. Owen Harris    male  22.0      1   \n",
       "1  Cumings, Mrs. John Bradley (Florence Briggs Th...  female  38.0      1   \n",
       "2                             Heikkinen, Miss. Laina  female  26.0      0   \n",
       "3       Futrelle, Mrs. Jacques Heath (Lily May Peel)  female  35.0      1   \n",
       "4                           Allen, Mr. William Henry    male  35.0      0   \n",
       "\n",
       "   Parch            Ticket     Fare Cabin Embarked  \n",
       "0      0         A/5 21171   7.2500   NaN        S  \n",
       "1      0          PC 17599  71.2833   C85        C  \n",
       "2      0  STON/O2. 3101282   7.9250   NaN        S  \n",
       "3      0            113803  53.1000  C123        S  \n",
       "4      0            373450   8.0500   NaN        S  "
      ]
     },
     "execution_count": 2,
     "metadata": {},
     "output_type": "execute_result"
    }
   ],
   "source": [
    "# Loading Dataset\n",
    "missing=[\"na\",\"--\",\".\",\"..\"]\n",
    "td= pd.read_csv(\"C:/Users/Hassan Ahmed/Desktop/Data Science Cohort-1 FTI/Titanic Dataset.csv\",na_values=missing)\n",
    "td.head()"
   ]
  },
  {
   "cell_type": "code",
   "execution_count": 3,
   "metadata": {},
   "outputs": [
    {
     "data": {
      "text/plain": [
       "PassengerId      0\n",
       "Survived         0\n",
       "Pclass           0\n",
       "Name             0\n",
       "Sex              0\n",
       "Age            177\n",
       "SibSp            0\n",
       "Parch            0\n",
       "Ticket           0\n",
       "Fare             0\n",
       "Cabin          687\n",
       "Embarked         2\n",
       "dtype: int64"
      ]
     },
     "execution_count": 3,
     "metadata": {},
     "output_type": "execute_result"
    }
   ],
   "source": [
    "td.isnull().sum() # Checking for nulls"
   ]
  },
  {
   "cell_type": "code",
   "execution_count": 4,
   "metadata": {},
   "outputs": [],
   "source": [
    "agemed=td[\"Age\"].median() # Claculating Median so to fill it in the nulls"
   ]
  },
  {
   "cell_type": "code",
   "execution_count": 5,
   "metadata": {},
   "outputs": [],
   "source": [
    "cnt=0\n",
    "for row in td['Age']:\n",
    "    try:\n",
    "        int(row)==row\n",
    "        pass\n",
    "    except ValueError:\n",
    "        td.loc[cnt,'Age']=agemed # filling median\n",
    "    cnt+=1"
   ]
  },
  {
   "cell_type": "code",
   "execution_count": 6,
   "metadata": {},
   "outputs": [
    {
     "name": "stdout",
     "output_type": "stream",
     "text": [
      "<class 'pandas.core.frame.DataFrame'>\n",
      "RangeIndex: 891 entries, 0 to 890\n",
      "Data columns (total 12 columns):\n",
      "PassengerId    891 non-null int64\n",
      "Survived       891 non-null int64\n",
      "Pclass         891 non-null int64\n",
      "Name           891 non-null object\n",
      "Sex            891 non-null object\n",
      "Age            891 non-null float64\n",
      "SibSp          891 non-null int64\n",
      "Parch          891 non-null int64\n",
      "Ticket         891 non-null object\n",
      "Fare           891 non-null float64\n",
      "Cabin          204 non-null object\n",
      "Embarked       889 non-null object\n",
      "dtypes: float64(2), int64(5), object(5)\n",
      "memory usage: 83.6+ KB\n"
     ]
    }
   ],
   "source": [
    "td.info() "
   ]
  },
  {
   "cell_type": "code",
   "execution_count": 7,
   "metadata": {},
   "outputs": [],
   "source": [
    "pd.DataFrame.drop(td,axis=1,columns=[\"Name\",\"Ticket\",\"Cabin\",\"PassengerId\"],inplace=True)  #Droping all the irrelevant Columns"
   ]
  },
  {
   "cell_type": "code",
   "execution_count": 8,
   "metadata": {},
   "outputs": [],
   "source": [
    "td[\"Age\"]=td[\"Age\"].astype(\"int64\") # Changing Datatype"
   ]
  },
  {
   "cell_type": "code",
   "execution_count": 9,
   "metadata": {},
   "outputs": [
    {
     "data": {
      "text/html": [
       "<div>\n",
       "<style scoped>\n",
       "    .dataframe tbody tr th:only-of-type {\n",
       "        vertical-align: middle;\n",
       "    }\n",
       "\n",
       "    .dataframe tbody tr th {\n",
       "        vertical-align: top;\n",
       "    }\n",
       "\n",
       "    .dataframe thead th {\n",
       "        text-align: right;\n",
       "    }\n",
       "</style>\n",
       "<table border=\"1\" class=\"dataframe\">\n",
       "  <thead>\n",
       "    <tr style=\"text-align: right;\">\n",
       "      <th></th>\n",
       "      <th>Survived</th>\n",
       "      <th>Pclass</th>\n",
       "      <th>Age</th>\n",
       "      <th>SibSp</th>\n",
       "      <th>Parch</th>\n",
       "      <th>Fare</th>\n",
       "    </tr>\n",
       "  </thead>\n",
       "  <tbody>\n",
       "    <tr>\n",
       "      <th>count</th>\n",
       "      <td>891.000000</td>\n",
       "      <td>891.000000</td>\n",
       "      <td>891.000000</td>\n",
       "      <td>891.000000</td>\n",
       "      <td>891.000000</td>\n",
       "      <td>891.000000</td>\n",
       "    </tr>\n",
       "    <tr>\n",
       "      <th>mean</th>\n",
       "      <td>0.383838</td>\n",
       "      <td>2.308642</td>\n",
       "      <td>29.345679</td>\n",
       "      <td>0.523008</td>\n",
       "      <td>0.381594</td>\n",
       "      <td>32.204208</td>\n",
       "    </tr>\n",
       "    <tr>\n",
       "      <th>std</th>\n",
       "      <td>0.486592</td>\n",
       "      <td>0.836071</td>\n",
       "      <td>13.028212</td>\n",
       "      <td>1.102743</td>\n",
       "      <td>0.806057</td>\n",
       "      <td>49.693429</td>\n",
       "    </tr>\n",
       "    <tr>\n",
       "      <th>min</th>\n",
       "      <td>0.000000</td>\n",
       "      <td>1.000000</td>\n",
       "      <td>0.000000</td>\n",
       "      <td>0.000000</td>\n",
       "      <td>0.000000</td>\n",
       "      <td>0.000000</td>\n",
       "    </tr>\n",
       "    <tr>\n",
       "      <th>25%</th>\n",
       "      <td>0.000000</td>\n",
       "      <td>2.000000</td>\n",
       "      <td>22.000000</td>\n",
       "      <td>0.000000</td>\n",
       "      <td>0.000000</td>\n",
       "      <td>7.910400</td>\n",
       "    </tr>\n",
       "    <tr>\n",
       "      <th>50%</th>\n",
       "      <td>0.000000</td>\n",
       "      <td>3.000000</td>\n",
       "      <td>28.000000</td>\n",
       "      <td>0.000000</td>\n",
       "      <td>0.000000</td>\n",
       "      <td>14.454200</td>\n",
       "    </tr>\n",
       "    <tr>\n",
       "      <th>75%</th>\n",
       "      <td>1.000000</td>\n",
       "      <td>3.000000</td>\n",
       "      <td>35.000000</td>\n",
       "      <td>1.000000</td>\n",
       "      <td>0.000000</td>\n",
       "      <td>31.000000</td>\n",
       "    </tr>\n",
       "    <tr>\n",
       "      <th>max</th>\n",
       "      <td>1.000000</td>\n",
       "      <td>3.000000</td>\n",
       "      <td>80.000000</td>\n",
       "      <td>8.000000</td>\n",
       "      <td>6.000000</td>\n",
       "      <td>512.329200</td>\n",
       "    </tr>\n",
       "  </tbody>\n",
       "</table>\n",
       "</div>"
      ],
      "text/plain": [
       "         Survived      Pclass         Age       SibSp       Parch        Fare\n",
       "count  891.000000  891.000000  891.000000  891.000000  891.000000  891.000000\n",
       "mean     0.383838    2.308642   29.345679    0.523008    0.381594   32.204208\n",
       "std      0.486592    0.836071   13.028212    1.102743    0.806057   49.693429\n",
       "min      0.000000    1.000000    0.000000    0.000000    0.000000    0.000000\n",
       "25%      0.000000    2.000000   22.000000    0.000000    0.000000    7.910400\n",
       "50%      0.000000    3.000000   28.000000    0.000000    0.000000   14.454200\n",
       "75%      1.000000    3.000000   35.000000    1.000000    0.000000   31.000000\n",
       "max      1.000000    3.000000   80.000000    8.000000    6.000000  512.329200"
      ]
     },
     "execution_count": 9,
     "metadata": {},
     "output_type": "execute_result"
    }
   ],
   "source": [
    "td.describe()"
   ]
  },
  {
   "cell_type": "code",
   "execution_count": 10,
   "metadata": {},
   "outputs": [],
   "source": [
    "# Discretization of Age Column\n",
    "td[\"Age\"]=np.where((td[\"Age\"]<20),\"Teenagers\",\n",
    "                   np.where((td[\"Age\"]>=20) & (td[\"Age\"]<=30),\"Adults\",\n",
    "                   np.where((td[\"Age\"]>30) & (td[\"Age\"]<=40),\"Middle Aged\",\n",
    "                            \"Old\")))"
   ]
  },
  {
   "cell_type": "code",
   "execution_count": 11,
   "metadata": {},
   "outputs": [],
   "source": [
    "td[\"Age\"]=pd.Categorical(td.Age,['Teenagers','Adults', 'Middle Aged', 'Old'],ordered=True)"
   ]
  },
  {
   "cell_type": "code",
   "execution_count": 12,
   "metadata": {},
   "outputs": [
    {
     "data": {
      "text/plain": [
       "Adults         424\n",
       "Teenagers      164\n",
       "Middle Aged    155\n",
       "Old            148\n",
       "Name: Age, dtype: int64"
      ]
     },
     "execution_count": 12,
     "metadata": {},
     "output_type": "execute_result"
    }
   ],
   "source": [
    "td[\"Age\"].value_counts() "
   ]
  },
  {
   "cell_type": "code",
   "execution_count": 13,
   "metadata": {},
   "outputs": [
    {
     "data": {
      "image/png": "[encoded data removed]",
      "text/plain": [
       "<Figure size 432x288 with 1 Axes>"
      ]
     },
     "metadata": {
      "needs_background": "light"
     },
     "output_type": "display_data"
    }
   ],
   "source": [
    "#draw a bar plot of Age vs. survival\n",
    "sns.barplot(x=\"Age\", y=\"Survived\", data=td)\n",
    "plt.show()"
   ]
  },
  {
   "cell_type": "code",
   "execution_count": 14,
   "metadata": {},
   "outputs": [
    {
     "name": "stdout",
     "output_type": "stream",
     "text": [
      "Percentage of females who survived: 74.20382165605095\n",
      "Percentage of males who survived: 18.890814558058924\n"
     ]
    },
    {
     "data": {
      "image/png": "[encoded data removed]",
      "text/plain": [
       "<Figure size 432x288 with 1 Axes>"
      ]
     },
     "metadata": {
      "needs_background": "light"
     },
     "output_type": "display_data"
    }
   ],
   "source": [
    "\n",
    "#draw a bar plot of survival by sex\n",
    "sns.barplot(x=\"Sex\", y=\"Survived\", data=td)\n",
    "\n",
    "#print percentages of females vs. males that survive\n",
    "print(\"Percentage of females who survived:\", td[\"Survived\"][td[\"Sex\"] == 'female'].value_counts(normalize = True)[1]*100)\n",
    "\n",
    "print(\"Percentage of males who survived:\", td[\"Survived\"][td[\"Sex\"] == 'male'].value_counts(normalize = True)[1]*100)"
   ]
  },
  {
   "cell_type": "code",
   "execution_count": 15,
   "metadata": {},
   "outputs": [
    {
     "name": "stdout",
     "output_type": "stream",
     "text": [
      "Percentage of Pclass = 1 who survived: 62.96296296296296\n",
      "Percentage of Pclass = 2 who survived: 47.28260869565217\n",
      "Percentage of Pclass = 3 who survived: 24.236252545824847\n"
     ]
    },
    {
     "data": {
      "image/png": "[encoded data removed]",
      "text/plain": [
       "<Figure size 432x288 with 1 Axes>"
      ]
     },
     "metadata": {
      "needs_background": "light"
     },
     "output_type": "display_data"
    }
   ],
   "source": [
    "#draw a bar plot of survival by Pclass\n",
    "sns.barplot(x=\"Pclass\", y=\"Survived\", data=td)\n",
    "\n",
    "#print percentage of people by Pclass that survived\n",
    "print(\"Percentage of Pclass = 1 who survived:\", td[\"Survived\"][td[\"Pclass\"] == 1].value_counts(normalize = True)[1]*100)\n",
    "\n",
    "print(\"Percentage of Pclass = 2 who survived:\", td[\"Survived\"][td[\"Pclass\"] == 2].value_counts(normalize = True)[1]*100)\n",
    "\n",
    "print(\"Percentage of Pclass = 3 who survived:\", td[\"Survived\"][td[\"Pclass\"] == 3].value_counts(normalize = True)[1]*100)"
   ]
  },
  {
   "cell_type": "code",
   "execution_count": 16,
   "metadata": {},
   "outputs": [],
   "source": [
    "td.dropna(inplace=True) # Now dropping all nulls"
   ]
  },
  {
   "cell_type": "code",
   "execution_count": 17,
   "metadata": {},
   "outputs": [
    {
     "data": {
      "text/plain": [
       "Survived       int64\n",
       "Pclass         int64\n",
       "Sex           object\n",
       "Age         category\n",
       "SibSp          int64\n",
       "Parch          int64\n",
       "Fare         float64\n",
       "Embarked      object\n",
       "dtype: object"
      ]
     },
     "execution_count": 17,
     "metadata": {},
     "output_type": "execute_result"
    }
   ],
   "source": [
    "td.dtypes"
   ]
  },
  {
   "cell_type": "code",
   "execution_count": 18,
   "metadata": {},
   "outputs": [
    {
     "data": {
      "text/plain": [
       "0    606\n",
       "1    209\n",
       "2     28\n",
       "4     18\n",
       "3     16\n",
       "8      7\n",
       "5      5\n",
       "Name: SibSp, dtype: int64"
      ]
     },
     "execution_count": 18,
     "metadata": {},
     "output_type": "execute_result"
    }
   ],
   "source": [
    "td[\"SibSp\"].value_counts()"
   ]
  },
  {
   "cell_type": "code",
   "execution_count": 19,
   "metadata": {},
   "outputs": [
    {
     "data": {
      "image/png": "[encoded data removed]",
      "text/plain": [
       "<Figure size 432x288 with 1 Axes>"
      ]
     },
     "metadata": {
      "needs_background": "light"
     },
     "output_type": "display_data"
    }
   ],
   "source": [
    "#draw a bar plot of SibSp vs. survival\n",
    "sns.barplot(x=\"SibSp\", y=\"Survived\", data=td)\n",
    "plt.show()"
   ]
  },
  {
   "cell_type": "code",
   "execution_count": 20,
   "metadata": {},
   "outputs": [
    {
     "data": {
      "text/plain": [
       "0    676\n",
       "1    118\n",
       "2     80\n",
       "5      5\n",
       "3      5\n",
       "4      4\n",
       "6      1\n",
       "Name: Parch, dtype: int64"
      ]
     },
     "execution_count": 20,
     "metadata": {},
     "output_type": "execute_result"
    }
   ],
   "source": [
    "td[\"Parch\"].value_counts()"
   ]
  },
  {
   "cell_type": "code",
   "execution_count": 21,
   "metadata": {},
   "outputs": [
    {
     "data": {
      "image/png": "[encoded data removed]",
      "text/plain": [
       "<Figure size 432x288 with 1 Axes>"
      ]
     },
     "metadata": {
      "needs_background": "light"
     },
     "output_type": "display_data"
    }
   ],
   "source": [
    "#draw a bar plot of Parch vs. survival\n",
    "sns.barplot(x=\"Parch\", y=\"Survived\", data=td)\n",
    "plt.show()"
   ]
  },
  {
   "cell_type": "code",
   "execution_count": 22,
   "metadata": {},
   "outputs": [],
   "source": [
    "td[\"Sex\"]=pd.Categorical(td.Sex,[\"male\",\"female\"],ordered=False)"
   ]
  },
  {
   "cell_type": "code",
   "execution_count": 23,
   "metadata": {
    "scrolled": true
   },
   "outputs": [
    {
     "data": {
      "text/plain": [
       "Survived       int64\n",
       "Pclass         int64\n",
       "Sex         category\n",
       "Age         category\n",
       "SibSp          int64\n",
       "Parch          int64\n",
       "Fare         float64\n",
       "Embarked      object\n",
       "dtype: object"
      ]
     },
     "execution_count": 23,
     "metadata": {},
     "output_type": "execute_result"
    }
   ],
   "source": [
    "td.dtypes"
   ]
  },
  {
   "cell_type": "code",
   "execution_count": 24,
   "metadata": {},
   "outputs": [
    {
     "data": {
      "text/html": [
       "<div>\n",
       "<style scoped>\n",
       "    .dataframe tbody tr th:only-of-type {\n",
       "        vertical-align: middle;\n",
       "    }\n",
       "\n",
       "    .dataframe tbody tr th {\n",
       "        vertical-align: top;\n",
       "    }\n",
       "\n",
       "    .dataframe thead th {\n",
       "        text-align: right;\n",
       "    }\n",
       "</style>\n",
       "<table border=\"1\" class=\"dataframe\">\n",
       "  <thead>\n",
       "    <tr style=\"text-align: right;\">\n",
       "      <th></th>\n",
       "      <th>Survived</th>\n",
       "      <th>Pclass</th>\n",
       "      <th>Sex</th>\n",
       "      <th>Age</th>\n",
       "      <th>SibSp</th>\n",
       "      <th>Parch</th>\n",
       "      <th>Fare</th>\n",
       "      <th>Embarked</th>\n",
       "    </tr>\n",
       "  </thead>\n",
       "  <tbody>\n",
       "    <tr>\n",
       "      <th>0</th>\n",
       "      <td>0</td>\n",
       "      <td>3</td>\n",
       "      <td>male</td>\n",
       "      <td>Adults</td>\n",
       "      <td>1</td>\n",
       "      <td>0</td>\n",
       "      <td>7.2500</td>\n",
       "      <td>S</td>\n",
       "    </tr>\n",
       "    <tr>\n",
       "      <th>1</th>\n",
       "      <td>1</td>\n",
       "      <td>1</td>\n",
       "      <td>female</td>\n",
       "      <td>Middle Aged</td>\n",
       "      <td>1</td>\n",
       "      <td>0</td>\n",
       "      <td>71.2833</td>\n",
       "      <td>C</td>\n",
       "    </tr>\n",
       "    <tr>\n",
       "      <th>2</th>\n",
       "      <td>1</td>\n",
       "      <td>3</td>\n",
       "      <td>female</td>\n",
       "      <td>Adults</td>\n",
       "      <td>0</td>\n",
       "      <td>0</td>\n",
       "      <td>7.9250</td>\n",
       "      <td>S</td>\n",
       "    </tr>\n",
       "    <tr>\n",
       "      <th>3</th>\n",
       "      <td>1</td>\n",
       "      <td>1</td>\n",
       "      <td>female</td>\n",
       "      <td>Middle Aged</td>\n",
       "      <td>1</td>\n",
       "      <td>0</td>\n",
       "      <td>53.1000</td>\n",
       "      <td>S</td>\n",
       "    </tr>\n",
       "    <tr>\n",
       "      <th>4</th>\n",
       "      <td>0</td>\n",
       "      <td>3</td>\n",
       "      <td>male</td>\n",
       "      <td>Middle Aged</td>\n",
       "      <td>0</td>\n",
       "      <td>0</td>\n",
       "      <td>8.0500</td>\n",
       "      <td>S</td>\n",
       "    </tr>\n",
       "  </tbody>\n",
       "</table>\n",
       "</div>"
      ],
      "text/plain": [
       "   Survived  Pclass     Sex          Age  SibSp  Parch     Fare Embarked\n",
       "0         0       3    male       Adults      1      0   7.2500        S\n",
       "1         1       1  female  Middle Aged      1      0  71.2833        C\n",
       "2         1       3  female       Adults      0      0   7.9250        S\n",
       "3         1       1  female  Middle Aged      1      0  53.1000        S\n",
       "4         0       3    male  Middle Aged      0      0   8.0500        S"
      ]
     },
     "execution_count": 24,
     "metadata": {},
     "output_type": "execute_result"
    }
   ],
   "source": [
    "td.head()"
   ]
  },
  {
   "cell_type": "code",
   "execution_count": 25,
   "metadata": {},
   "outputs": [
    {
     "name": "stdout",
     "output_type": "stream",
     "text": [
      "Index(['Survived', 'Pclass', 'SibSp', 'Parch', 'Fare', 'Sex_female',\n",
      "       'Age_Adults', 'Age_Middle Aged', 'Age_Old', 'Embarked_Q', 'Embarked_S'],\n",
      "      dtype='object')\n"
     ]
    },
    {
     "data": {
      "text/html": [
       "<div>\n",
       "<style scoped>\n",
       "    .dataframe tbody tr th:only-of-type {\n",
       "        vertical-align: middle;\n",
       "    }\n",
       "\n",
       "    .dataframe tbody tr th {\n",
       "        vertical-align: top;\n",
       "    }\n",
       "\n",
       "    .dataframe thead th {\n",
       "        text-align: right;\n",
       "    }\n",
       "</style>\n",
       "<table border=\"1\" class=\"dataframe\">\n",
       "  <thead>\n",
       "    <tr style=\"text-align: right;\">\n",
       "      <th></th>\n",
       "      <th>Survived</th>\n",
       "      <th>Pclass</th>\n",
       "      <th>SibSp</th>\n",
       "      <th>Parch</th>\n",
       "      <th>Fare</th>\n",
       "      <th>Sex_female</th>\n",
       "      <th>Age_Adults</th>\n",
       "      <th>Age_Middle Aged</th>\n",
       "      <th>Age_Old</th>\n",
       "      <th>Embarked_Q</th>\n",
       "      <th>Embarked_S</th>\n",
       "    </tr>\n",
       "  </thead>\n",
       "  <tbody>\n",
       "    <tr>\n",
       "      <th>0</th>\n",
       "      <td>0</td>\n",
       "      <td>3</td>\n",
       "      <td>1</td>\n",
       "      <td>0</td>\n",
       "      <td>7.2500</td>\n",
       "      <td>0</td>\n",
       "      <td>1</td>\n",
       "      <td>0</td>\n",
       "      <td>0</td>\n",
       "      <td>0</td>\n",
       "      <td>1</td>\n",
       "    </tr>\n",
       "    <tr>\n",
       "      <th>1</th>\n",
       "      <td>1</td>\n",
       "      <td>1</td>\n",
       "      <td>1</td>\n",
       "      <td>0</td>\n",
       "      <td>71.2833</td>\n",
       "      <td>1</td>\n",
       "      <td>0</td>\n",
       "      <td>1</td>\n",
       "      <td>0</td>\n",
       "      <td>0</td>\n",
       "      <td>0</td>\n",
       "    </tr>\n",
       "    <tr>\n",
       "      <th>2</th>\n",
       "      <td>1</td>\n",
       "      <td>3</td>\n",
       "      <td>0</td>\n",
       "      <td>0</td>\n",
       "      <td>7.9250</td>\n",
       "      <td>1</td>\n",
       "      <td>1</td>\n",
       "      <td>0</td>\n",
       "      <td>0</td>\n",
       "      <td>0</td>\n",
       "      <td>1</td>\n",
       "    </tr>\n",
       "    <tr>\n",
       "      <th>3</th>\n",
       "      <td>1</td>\n",
       "      <td>1</td>\n",
       "      <td>1</td>\n",
       "      <td>0</td>\n",
       "      <td>53.1000</td>\n",
       "      <td>1</td>\n",
       "      <td>0</td>\n",
       "      <td>1</td>\n",
       "      <td>0</td>\n",
       "      <td>0</td>\n",
       "      <td>1</td>\n",
       "    </tr>\n",
       "    <tr>\n",
       "      <th>4</th>\n",
       "      <td>0</td>\n",
       "      <td>3</td>\n",
       "      <td>0</td>\n",
       "      <td>0</td>\n",
       "      <td>8.0500</td>\n",
       "      <td>0</td>\n",
       "      <td>0</td>\n",
       "      <td>1</td>\n",
       "      <td>0</td>\n",
       "      <td>0</td>\n",
       "      <td>1</td>\n",
       "    </tr>\n",
       "  </tbody>\n",
       "</table>\n",
       "</div>"
      ],
      "text/plain": [
       "   Survived  Pclass  SibSp  Parch     Fare  Sex_female  Age_Adults  \\\n",
       "0         0       3      1      0   7.2500           0           1   \n",
       "1         1       1      1      0  71.2833           1           0   \n",
       "2         1       3      0      0   7.9250           1           1   \n",
       "3         1       1      1      0  53.1000           1           0   \n",
       "4         0       3      0      0   8.0500           0           0   \n",
       "\n",
       "   Age_Middle Aged  Age_Old  Embarked_Q  Embarked_S  \n",
       "0                0        0           0           1  \n",
       "1                1        0           0           0  \n",
       "2                0        0           0           1  \n",
       "3                1        0           0           1  \n",
       "4                1        0           0           1  "
      ]
     },
     "execution_count": 25,
     "metadata": {},
     "output_type": "execute_result"
    }
   ],
   "source": [
    "#We have categorical variables .getdummies seperates the different categories of categorical variables as separate \n",
    "#binary columns\n",
    "td1 = pd.get_dummies(td,drop_first=True)\n",
    "#List of new columns\n",
    "print(td1.columns)\n",
    "td1.head(5)"
   ]
  },
  {
   "cell_type": "code",
   "execution_count": 26,
   "metadata": {},
   "outputs": [],
   "source": [
    "td1[\"Fare\"]=np.abs((td1[\"Fare\"]-td1[\"Fare\"].mean())/(td1[\"Fare\"].std()))"
   ]
  },
  {
   "cell_type": "code",
   "execution_count": 27,
   "metadata": {},
   "outputs": [
    {
     "data": {
      "text/plain": [
       "(889, 11)"
      ]
     },
     "execution_count": 27,
     "metadata": {},
     "output_type": "execute_result"
    }
   ],
   "source": [
    "td1.head(5)\n",
    "td1.shape"
   ]
  },
  {
   "cell_type": "code",
   "execution_count": 28,
   "metadata": {},
   "outputs": [
    {
     "name": "stdout",
     "output_type": "stream",
     "text": [
      "(889,)\n",
      "(889, 10)\n"
     ]
    }
   ],
   "source": [
    "y=td1[\"Survived\"].copy()\n",
    "X=td1.drop(columns=[\"Survived\"])\n",
    "print(y.shape)\n",
    "print(X.shape)"
   ]
  },
  {
   "cell_type": "markdown",
   "metadata": {},
   "source": [
    "# Feature Engineering Using Random Forest Algorithm"
   ]
  },
  {
   "cell_type": "code",
   "execution_count": 29,
   "metadata": {},
   "outputs": [
    {
     "name": "stdout",
     "output_type": "stream",
     "text": [
      "Unimportant Columms after simple Random Forrest\n",
      " Empty DataFrame\n",
      "Columns: [0, 1]\n",
      "Index: []\n",
      "[]\n",
      "Important Columms after simple Random Forrest\n",
      "                  0         1\n",
      "3             Fare  0.348636\n",
      "4       Sex_female  0.311605\n",
      "0           Pclass  0.109014\n",
      "1            SibSp  0.057674\n",
      "2            Parch  0.051679\n",
      "7          Age_Old  0.029894\n",
      "9       Embarked_S  0.029277\n",
      "5       Age_Adults  0.029002\n",
      "6  Age_Middle Aged  0.023293\n",
      "8       Embarked_Q  0.009926\n",
      "Important Columms after simple Random Forrest\n",
      " [3, 4, 0, 1, 2, 7, 9, 5, 6, 8]\n",
      "[0.109  0.0577 0.0517 0.3486 0.3116 0.029  0.0233 0.0299 0.0099 0.0293]\n",
      "Index(['Pclass', 'SibSp', 'Parch', 'Fare', 'Sex_female', 'Age_Adults',\n",
      "       'Age_Middle Aged', 'Age_Old', 'Embarked_Q', 'Embarked_S'],\n",
      "      dtype='object')\n"
     ]
    },
    {
     "name": "stderr",
     "output_type": "stream",
     "text": [
      "E:\\Anaconda\\lib\\site-packages\\sklearn\\ensemble\\forest.py:245: FutureWarning: The default value of n_estimators will change from 10 in version 0.20 to 100 in 0.22.\n",
      "  \"10 in version 0.20 to 100 in 0.22.\", FutureWarning)\n"
     ]
    }
   ],
   "source": [
    "#Random Forest method for feature selection\n",
    "from sklearn.ensemble import RandomForestClassifier\n",
    "model = RandomForestClassifier()    \n",
    "#thit is how we get the feature importance with simple steps:\n",
    "X_features=X.columns\n",
    "model.fit(X, y)\n",
    "# display the relative importance of each attribute\n",
    "importances = np.around(model.feature_importances_,decimals=4)\n",
    "imp_features= model.feature_importances_\n",
    "feature_array=np.array(X_features)\n",
    "sorted_features=pd.DataFrame(list(zip(feature_array,imp_features))).sort_values(by=1,ascending=False)\n",
    "#print(sorted_features)\n",
    "data_top=sorted_features[:X.shape[1]]\n",
    "feature_to_rem=sorted_features[X.shape[1]:]\n",
    "print(\"Unimportant Columms after simple Random Forrest\\n\",feature_to_rem)\n",
    "rem_index=list(feature_to_rem.index)\n",
    "print(rem_index)\n",
    "print(\"Important Columms after simple Random Forrest\\n\",data_top)\n",
    "data_top_index=list(data_top.index)\n",
    "print(\"Important Columms after simple Random Forrest\\n\",data_top_index )\n",
    "print(importances)\n",
    "#0.0250 is a  selected threshold looking at the importance values this can be changed to any other value too\n",
    "#cols_randfor_removed=[index for index,value in enumerate(importances) if value <= 0.0250]\n",
    "#print(cols_randfor_removed)\n",
    "X_randfor_sel = X.drop(X.columns[rem_index],axis=1)\n",
    "#X_randfor_sel = X.drop(X.columns[cols_randfor_removed],axis=1)\n",
    "features_randfor_select=X_randfor_sel.columns\n",
    "print(features_randfor_select)"
   ]
  },
  {
   "cell_type": "markdown",
   "metadata": {},
   "source": [
    "### Train Test Split"
   ]
  },
  {
   "cell_type": "code",
   "execution_count": 30,
   "metadata": {},
   "outputs": [
    {
     "name": "stdout",
     "output_type": "stream",
     "text": [
      "\n",
      " shape of train split: \n",
      "(666, 10) (666,)\n",
      "\n",
      " shape of train split: \n",
      "(223, 10) (223,)\n"
     ]
    }
   ],
   "source": [
    "#creat train-test split parts for manual split\n",
    "\n",
    "trainX, testX, trainy, testy= skm.train_test_split(X,y, test_size=0.25, random_state=99) #explain random state\n",
    "print(\"\\n shape of train split: \")\n",
    "print(trainX.shape, trainy.shape)\n",
    "print(\"\\n shape of train split: \")\n",
    "print(testX.shape, testy.shape)"
   ]
  },
  {
   "cell_type": "markdown",
   "metadata": {},
   "source": [
    "### Making X Scalar for ML algorithms"
   ]
  },
  {
   "cell_type": "code",
   "execution_count": 31,
   "metadata": {},
   "outputs": [],
   "source": [
    "X = skp.StandardScaler().fit(X).transform(X)"
   ]
  },
  {
   "cell_type": "markdown",
   "metadata": {},
   "source": [
    "# All Machine Learning Algorithms with Default Parameters"
   ]
  },
  {
   "cell_type": "markdown",
   "metadata": {},
   "source": [
    "## K Nearest Neighbor Algorithm"
   ]
  },
  {
   "cell_type": "code",
   "execution_count": 32,
   "metadata": {},
   "outputs": [
    {
     "name": "stdout",
     "output_type": "stream",
     "text": [
      "Accuracy of KNN (%): \n",
      " 76.68161434977578\n",
      "AUC OF KNN (%): \n",
      " 76.31996658312448\n",
      "Recall of KNN is: \n",
      " 74.44444444444444\n",
      "Precision of KNN is: \n",
      " 69.79166666666666\n"
     ]
    }
   ],
   "source": [
    "knn = KNeighborsClassifier()\n",
    "knn.fit(trainX,trainy)\n",
    "predictions = knn.predict(testX)\n",
    "accknn=accuracy_score(testy, predictions)*100\n",
    "print(\"Accuracy of KNN (%): \\n\", accknn)  \n",
    "#get FPR\n",
    "fprknn, tprknn, _ = roc_curve(testy, predictions)\n",
    "aucknn=auc(fprknn, tprknn)*100\n",
    "print(\"AUC OF KNN (%): \\n\", aucknn)\n",
    "recallknn=recall_score(testy,predictions)*100\n",
    "print(\"Recall of KNN is: \\n\",recallknn)\n",
    "precknn=precision_score(testy,predictions)*100\n",
    "print(\"Precision of KNN is: \\n\",precknn)"
   ]
  },
  {
   "cell_type": "markdown",
   "metadata": {},
   "source": [
    "## Gaussian Naive Bayes Algorithm"
   ]
  },
  {
   "cell_type": "code",
   "execution_count": 33,
   "metadata": {},
   "outputs": [
    {
     "name": "stdout",
     "output_type": "stream",
     "text": [
      "Accuracy of Gaussian Naive Bayes (%): \n",
      " 73.99103139013454\n",
      "AUC OF Gaussian Naive Bayes (%): \n",
      " 73.16624895572264\n",
      "Recall of Gaussian Naive Bayes is: \n",
      " 68.88888888888889\n",
      "Precision of Gaussian Naive Bayes is: \n",
      " 67.3913043478261\n"
     ]
    }
   ],
   "source": [
    "gnb=GaussianNB()\n",
    "gnb.fit(trainX,trainy)\n",
    "predictions = gnb.predict(testX)\n",
    "accgnb=accuracy_score(testy, predictions)*100\n",
    "print(\"Accuracy of Gaussian Naive Bayes (%): \\n\",accgnb)  \n",
    "#get FPR\n",
    "fprgnb, tprgnb, _ = roc_curve(testy, predictions)\n",
    "aucgnb=auc(fprgnb, tprgnb)*100\n",
    "print(\"AUC OF Gaussian Naive Bayes (%): \\n\", aucgnb)\n",
    "recallgnb=recall_score(testy,predictions)*100\n",
    "print(\"Recall of Gaussian Naive Bayes is: \\n\",recallgnb)\n",
    "precgnb=precision_score(testy,predictions)*100\n",
    "print(\"Precision of Gaussian Naive Bayes is: \\n\",precgnb)"
   ]
  },
  {
   "cell_type": "markdown",
   "metadata": {},
   "source": [
    "## Logistic Regression Algorithm"
   ]
  },
  {
   "cell_type": "code",
   "execution_count": 34,
   "metadata": {},
   "outputs": [
    {
     "name": "stdout",
     "output_type": "stream",
     "text": [
      "Accuracy of Logistic regression (%): \n",
      " 74.88789237668162\n",
      "AUC OF Logistic regression (%): \n",
      " 73.55889724310777\n",
      "Recall of Logistic regression is: \n",
      " 66.66666666666666\n",
      "Precision of Logistic regression is: \n",
      " 69.76744186046511\n"
     ]
    }
   ],
   "source": [
    "lrg=LogisticRegression(solver='lbfgs')\n",
    "lrg.fit(trainX,trainy)\n",
    "predictions = lrg.predict(testX)\n",
    "acclrg=accuracy_score(testy, predictions)*100\n",
    "print(\"Accuracy of Logistic regression (%): \\n\",acclrg)  \n",
    "#get FPR\n",
    "fprlrg, tprlrg, _ = roc_curve(testy, predictions)\n",
    "auclrg=auc(fprlrg, tprlrg)*100\n",
    "print(\"AUC OF Logistic regression (%): \\n\", auclrg)\n",
    "recalllrg=recall_score(testy,predictions)*100\n",
    "print(\"Recall of Logistic regression is: \\n\",recalllrg)\n",
    "preclrg=precision_score(testy,predictions)*100\n",
    "print(\"Precision of Logistic regression is: \\n\",preclrg)"
   ]
  },
  {
   "cell_type": "markdown",
   "metadata": {},
   "source": [
    "## Neural Networks Algorithm"
   ]
  },
  {
   "cell_type": "code",
   "execution_count": 35,
   "metadata": {},
   "outputs": [
    {
     "name": "stdout",
     "output_type": "stream",
     "text": [
      "Accuracy of Neural Networks (%): \n",
      " 77.13004484304933\n",
      "AUC OF Neural Networks (%): \n",
      " 74.89974937343358\n",
      "Recall of Neural Networks is: \n",
      " 63.33333333333333\n",
      "Precision of Neural Networks is: \n",
      " 76.0\n"
     ]
    }
   ],
   "source": [
    "nn=MLPClassifier(solver='lbfgs',hidden_layer_sizes=20,batch_size=150,max_iter=100, random_state=1)\n",
    "nn.fit(trainX,trainy)\n",
    "predictions = nn.predict(testX)\n",
    "accnn=accuracy_score(testy, predictions)*100\n",
    "print(\"Accuracy of Neural Networks (%): \\n\",accnn)  \n",
    "#get FPR\n",
    "fprnn, tprnn, _ = roc_curve(testy, predictions)\n",
    "aucnn=auc(fprnn, tprnn)*100\n",
    "print(\"AUC OF Neural Networks (%): \\n\", aucnn)\n",
    "recallnn=recall_score(testy,predictions)*100\n",
    "print(\"Recall of Neural Networks is: \\n\",recallnn)\n",
    "precnn=precision_score(testy,predictions)*100\n",
    "print(\"Precision of Neural Networks is: \\n\",precnn)"
   ]
  },
  {
   "cell_type": "markdown",
   "metadata": {},
   "source": [
    "## Support Vector Machine Algorithm"
   ]
  },
  {
   "cell_type": "code",
   "execution_count": 36,
   "metadata": {},
   "outputs": [
    {
     "name": "stdout",
     "output_type": "stream",
     "text": [
      "Accuracy of Support Vector Machine (%): \n",
      " 74.43946188340807\n",
      "AUC OF Support Vector Machine (%): \n",
      " 72.82372598162071\n",
      "Recall of Support Vector Machine is: \n",
      " 64.44444444444444\n",
      "Precision of Support Vector Machine is: \n",
      " 69.87951807228916\n"
     ]
    }
   ],
   "source": [
    "svm=clf = SVC(gamma=\"auto\",kernel='poly',degree=3)\n",
    "svm.fit(trainX,trainy)\n",
    "predictions = svm.predict(testX)\n",
    "accsvm=accuracy_score(testy, predictions)*100\n",
    "print(\"Accuracy of Support Vector Machine (%): \\n\",accsvm)  \n",
    "#get FPR\n",
    "fprsvm, tprsvm, _ = roc_curve(testy, predictions)\n",
    "aucsvm=auc(fprsvm, tprsvm)*100\n",
    "print(\"AUC OF Support Vector Machine (%): \\n\", aucsvm)\n",
    "recallsvm=recall_score(testy,predictions)*100\n",
    "print(\"Recall of Support Vector Machine is: \\n\",recallsvm)\n",
    "precsvm=precision_score(testy,predictions)*100\n",
    "print(\"Precision of Support Vector Machine is: \\n\",precsvm)"
   ]
  },
  {
   "cell_type": "markdown",
   "metadata": {},
   "source": [
    "## Decision Tree Algorithm"
   ]
  },
  {
   "cell_type": "code",
   "execution_count": 37,
   "metadata": {},
   "outputs": [
    {
     "name": "stdout",
     "output_type": "stream",
     "text": [
      "Accuracy of Decision Tree (%): \n",
      " 76.68161434977578\n",
      "AUC OF Decision Tree (%): \n",
      " 75.78111946533\n",
      "Recall of Decision Tree is: \n",
      " 71.11111111111111\n",
      "Precision of Decision Tree is: \n",
      " 71.11111111111111\n"
     ]
    }
   ],
   "source": [
    "dt=DecisionTreeClassifier(max_depth=10,criterion=\"gini\")\n",
    "dt.fit(trainX,trainy)\n",
    "predictions = dt.predict(testX)\n",
    "accdt=accuracy_score(testy, predictions)*100\n",
    "print(\"Accuracy of Decision Tree (%): \\n\",accdt)  \n",
    "#get FPR\n",
    "fprdt, tprdt, _ = roc_curve(testy, predictions)\n",
    "aucdt=auc(fprdt, tprdt)*100\n",
    "print(\"AUC OF Decision Tree (%): \\n\",aucdt)\n",
    "recalldt=recall_score(testy,predictions)*100\n",
    "print(\"Recall of Decision Tree is: \\n\",recalldt)\n",
    "precdt=precision_score(testy,predictions)*100\n",
    "print(\"Precision of Decision Tree is: \\n\",precdt)"
   ]
  },
  {
   "cell_type": "markdown",
   "metadata": {},
   "source": [
    "## Random forest Algorithm"
   ]
  },
  {
   "cell_type": "code",
   "execution_count": 38,
   "metadata": {},
   "outputs": [
    {
     "name": "stdout",
     "output_type": "stream",
     "text": [
      "Accuracy of Random Forest (%): \n",
      " 74.88789237668162\n",
      "AUC OF Random Forest (%): \n",
      " 73.91812865497076\n",
      "Recall of Random Forest is: \n",
      " 68.88888888888889\n",
      "Precision of Random Forest is: \n",
      " 68.88888888888889\n"
     ]
    },
    {
     "name": "stderr",
     "output_type": "stream",
     "text": [
      "E:\\Anaconda\\lib\\site-packages\\sklearn\\ensemble\\forest.py:245: FutureWarning: The default value of n_estimators will change from 10 in version 0.20 to 100 in 0.22.\n",
      "  \"10 in version 0.20 to 100 in 0.22.\", FutureWarning)\n"
     ]
    }
   ],
   "source": [
    "rf=RandomForestClassifier()\n",
    "rf.fit(trainX,trainy)\n",
    "predictions = rf.predict(testX)\n",
    "accrf=accuracy_score(testy, predictions)*100\n",
    "print(\"Accuracy of Random Forest (%): \\n\",accrf)  \n",
    "#get FPR\n",
    "fprrf, tprrf, _ = roc_curve(testy, predictions)\n",
    "aucrf=auc(fprrf, tprrf)*100\n",
    "print(\"AUC OF Random Forest (%): \\n\", aucrf)\n",
    "recallrf=recall_score(testy,predictions)*100\n",
    "print(\"Recall of Random Forest is: \\n\",recallrf)\n",
    "precrf=precision_score(testy,predictions)*100\n",
    "print(\"Precision of Random Forest is: \\n\",precrf)"
   ]
  },
  {
   "cell_type": "markdown",
   "metadata": {},
   "source": [
    "## Ada Boost Algorithm"
   ]
  },
  {
   "cell_type": "code",
   "execution_count": 39,
   "metadata": {},
   "outputs": [
    {
     "name": "stdout",
     "output_type": "stream",
     "text": [
      "Accuracy of AdaBoost (%): \n",
      " 75.33632286995515\n",
      "AUC OF AdaBoost (%): \n",
      " 74.83291562238931\n",
      "Recall of AdaBoost is: \n",
      " 72.22222222222221\n",
      "Precision of AdaBoost is: \n",
      " 68.42105263157895\n"
     ]
    }
   ],
   "source": [
    "ab=AdaBoostClassifier()\n",
    "ab.fit(trainX,trainy)\n",
    "predictions = ab.predict(testX)\n",
    "accab=accuracy_score(testy, predictions)*100\n",
    "print(\"Accuracy of AdaBoost (%): \\n\",accab)  \n",
    "#get FPR\n",
    "fprab, tprab, _ = roc_curve(testy, predictions)\n",
    "aucab=auc(fprab, tprab)*100\n",
    "print(\"AUC OF AdaBoost (%): \\n\",aucab)\n",
    "recallab=recall_score(testy,predictions)*100\n",
    "print(\"Recall of AdaBoost is: \\n\",recallab)\n",
    "precab=precision_score(testy,predictions)*100\n",
    "print(\"Precision of AdaBoost is: \\n\",precab)"
   ]
  },
  {
   "cell_type": "markdown",
   "metadata": {},
   "source": [
    "## Gradient Descent Boosting Algorithm"
   ]
  },
  {
   "cell_type": "code",
   "execution_count": 40,
   "metadata": {},
   "outputs": [
    {
     "name": "stdout",
     "output_type": "stream",
     "text": [
      "Accuracy of Gradient Descent Boosting (%): \n",
      " 77.13004484304933\n",
      "AUC OF Gradient Descent Boosting (%): \n",
      " 75.43859649122805\n",
      "Recall of Gradient Descent Boosting is: \n",
      " 66.66666666666666\n",
      "Precision of Gradient Descent Boosting is: \n",
      " 74.07407407407408\n"
     ]
    }
   ],
   "source": [
    "gb=GradientBoostingClassifier()\n",
    "gb.fit(trainX,trainy)\n",
    "predictions = gb.predict(testX)\n",
    "accgb=accuracy_score(testy, predictions)*100\n",
    "print(\"Accuracy of Gradient Descent Boosting (%): \\n\",accgb)  \n",
    "#get FPR\n",
    "fprgb, tprgb, _ = roc_curve(testy, predictions)\n",
    "aucgb=auc(fprgb, tprgb)*100\n",
    "print(\"AUC OF Gradient Descent Boosting (%): \\n\", aucgb)\n",
    "recallgb=recall_score(testy,predictions)*100\n",
    "print(\"Recall of Gradient Descent Boosting is: \\n\",recallgb)\n",
    "precgb=precision_score(testy,predictions)*100\n",
    "print(\"Precision of Gradient Descent Boosting is: \\n\",precgb)"
   ]
  },
  {
   "cell_type": "markdown",
   "metadata": {},
   "source": [
    "# Comparison of all the Machine Learning Algorithms by Comparing some Evaluation Metrics"
   ]
  },
  {
   "cell_type": "code",
   "execution_count": 41,
   "metadata": {},
   "outputs": [
    {
     "data": {
      "text/html": [
       "<div>\n",
       "<style scoped>\n",
       "    .dataframe tbody tr th:only-of-type {\n",
       "        vertical-align: middle;\n",
       "    }\n",
       "\n",
       "    .dataframe tbody tr th {\n",
       "        vertical-align: top;\n",
       "    }\n",
       "\n",
       "    .dataframe thead th {\n",
       "        text-align: right;\n",
       "    }\n",
       "</style>\n",
       "<table border=\"1\" class=\"dataframe\">\n",
       "  <thead>\n",
       "    <tr style=\"text-align: right;\">\n",
       "      <th></th>\n",
       "      <th>Algorithms</th>\n",
       "      <th>Accuracies</th>\n",
       "      <th>Area Under the Curve</th>\n",
       "      <th>Recall</th>\n",
       "      <th>Precision</th>\n",
       "    </tr>\n",
       "  </thead>\n",
       "  <tbody>\n",
       "    <tr>\n",
       "      <th>8</th>\n",
       "      <td>Gradient Descent Boosting</td>\n",
       "      <td>77.130045</td>\n",
       "      <td>75.438596</td>\n",
       "      <td>66.666667</td>\n",
       "      <td>74.074074</td>\n",
       "    </tr>\n",
       "    <tr>\n",
       "      <th>3</th>\n",
       "      <td>Neural Networks</td>\n",
       "      <td>77.130045</td>\n",
       "      <td>74.899749</td>\n",
       "      <td>63.333333</td>\n",
       "      <td>76.000000</td>\n",
       "    </tr>\n",
       "    <tr>\n",
       "      <th>0</th>\n",
       "      <td>K Nearest Neighbor</td>\n",
       "      <td>76.681614</td>\n",
       "      <td>76.319967</td>\n",
       "      <td>74.444444</td>\n",
       "      <td>69.791667</td>\n",
       "    </tr>\n",
       "    <tr>\n",
       "      <th>5</th>\n",
       "      <td>Decision Tree</td>\n",
       "      <td>76.681614</td>\n",
       "      <td>75.781119</td>\n",
       "      <td>71.111111</td>\n",
       "      <td>71.111111</td>\n",
       "    </tr>\n",
       "    <tr>\n",
       "      <th>7</th>\n",
       "      <td>AdaBoost</td>\n",
       "      <td>75.336323</td>\n",
       "      <td>74.832916</td>\n",
       "      <td>72.222222</td>\n",
       "      <td>68.421053</td>\n",
       "    </tr>\n",
       "    <tr>\n",
       "      <th>6</th>\n",
       "      <td>Random Forrest</td>\n",
       "      <td>74.887892</td>\n",
       "      <td>73.918129</td>\n",
       "      <td>68.888889</td>\n",
       "      <td>68.888889</td>\n",
       "    </tr>\n",
       "    <tr>\n",
       "      <th>2</th>\n",
       "      <td>Logistic Regression</td>\n",
       "      <td>74.887892</td>\n",
       "      <td>73.558897</td>\n",
       "      <td>66.666667</td>\n",
       "      <td>69.767442</td>\n",
       "    </tr>\n",
       "    <tr>\n",
       "      <th>4</th>\n",
       "      <td>Support Vector Machine</td>\n",
       "      <td>74.439462</td>\n",
       "      <td>72.823726</td>\n",
       "      <td>64.444444</td>\n",
       "      <td>69.879518</td>\n",
       "    </tr>\n",
       "    <tr>\n",
       "      <th>1</th>\n",
       "      <td>Guassian Naive Bayes</td>\n",
       "      <td>73.991031</td>\n",
       "      <td>73.166249</td>\n",
       "      <td>68.888889</td>\n",
       "      <td>67.391304</td>\n",
       "    </tr>\n",
       "  </tbody>\n",
       "</table>\n",
       "</div>"
      ],
      "text/plain": [
       "                  Algorithms  Accuracies  Area Under the Curve     Recall  \\\n",
       "8  Gradient Descent Boosting   77.130045             75.438596  66.666667   \n",
       "3            Neural Networks   77.130045             74.899749  63.333333   \n",
       "0         K Nearest Neighbor   76.681614             76.319967  74.444444   \n",
       "5              Decision Tree   76.681614             75.781119  71.111111   \n",
       "7                   AdaBoost   75.336323             74.832916  72.222222   \n",
       "6             Random Forrest   74.887892             73.918129  68.888889   \n",
       "2        Logistic Regression   74.887892             73.558897  66.666667   \n",
       "4     Support Vector Machine   74.439462             72.823726  64.444444   \n",
       "1       Guassian Naive Bayes   73.991031             73.166249  68.888889   \n",
       "\n",
       "   Precision  \n",
       "8  74.074074  \n",
       "3  76.000000  \n",
       "0  69.791667  \n",
       "5  71.111111  \n",
       "7  68.421053  \n",
       "6  68.888889  \n",
       "2  69.767442  \n",
       "4  69.879518  \n",
       "1  67.391304  "
      ]
     },
     "metadata": {},
     "output_type": "display_data"
    }
   ],
   "source": [
    "algos=[\"K Nearest Neighbor\",\"Guassian Naive Bayes\",\"Logistic Regression\",\"Neural Networks\",\"Support Vector Machine\",\"Decision Tree\",\"Random Forrest\",\"AdaBoost\",\"Gradient Descent Boosting\"]\n",
    "acc=[accknn,accgnb,acclrg,accnn,accsvm,accdt,accrf,accab,accgb]\n",
    "auc=[aucknn,aucgnb,auclrg,aucnn,aucsvm,aucdt,aucrf,aucab,aucgb]\n",
    "recall=[recallknn,recallgnb,recalllrg,recallnn,recallsvm,recalldt,recallrf,recallab,recallgb]\n",
    "prec=[precknn,precgnb,preclrg,precnn,precsvm,precdt,precrf,precab,precgb]\n",
    "comp={\"Algorithms\":algos,\"Accuracies\":acc,\"Area Under the Curve\":auc,\"Recall\":recall,\"Precision\":prec}\n",
    "compdf=pd.DataFrame(comp)\n",
    "display(compdf.sort_values(by=[\"Accuracies\",\"Area Under the Curve\",\"Recall\",\"Precision\"], ascending=False))\n"
   ]
  },
  {
   "cell_type": "markdown",
   "metadata": {},
   "source": [
    "# ROC of all the Machine Learning Algorithms on default parameters"
   ]
  },
  {
   "cell_type": "code",
   "execution_count": 47,
   "metadata": {},
   "outputs": [
    {
     "data": {
      "image/png": "[encoded data removed]",
      "text/plain": [
       "<Figure size 1440x720 with 1 Axes>"
      ]
     },
     "metadata": {
      "needs_background": "light"
     },
     "output_type": "display_data"
    }
   ],
   "source": [
    "import sklearn.metrics as metrics\n",
    "roc_auc1=metrics.auc(fprknn,tprknn)\n",
    "roc_auc2=metrics.auc(fprgnb,tprgnb)\n",
    "roc_auc3=metrics.auc(fprlrg,tprlrg)\n",
    "roc_auc4=metrics.auc(fprnn,tprnn)\n",
    "roc_auc5=metrics.auc(fprsvm,tprsvm)\n",
    "roc_auc6=metrics.auc(fprdt,tprdt)\n",
    "roc_auc7=metrics.auc(fprrf,tprrf)\n",
    "roc_auc8=metrics.auc(fprab,tprab)\n",
    "roc_auc9=metrics.auc(fprgb,tprgb)\n",
    "\n",
    "# Method-I: PLot\n",
    "import matplotlib.pyplot as plt\n",
    "%matplotlib inline\n",
    "plt.figure(figsize=(20,10))\n",
    "plt.title(\"Receiver Operating Curve\")\n",
    "plt.plot(fprknn,tprknn,\"b\",label=\"ROC of KNN = %0.2f\" % roc_auc1)\n",
    "plt.plot(fprgnb,tprgnb,\"r\",label=\"ROC of Guassian Naive Bayes = %0.2f\" % roc_auc2)\n",
    "plt.plot(fprlrg,tprlrg,\"y\",label=\"ROC of Logistic Regression = %0.2f\" % roc_auc3)\n",
    "plt.plot(fprnn,tprnn,\"c\",label=\"ROC of Neural Networks = %0.2f\" % roc_auc4)\n",
    "plt.plot(fprsvm,tprsvm,\"k\",label=\"ROC of SVM = %0.2f\" % roc_auc5)\n",
    "plt.plot(fprdt,tprdt,\"m\",label=\"ROC of Descision Tree= %0.2f\" % roc_auc6)\n",
    "plt.plot(fprrf,tprrf,\"y--\",label=\"ROC of Random Forrest= %0.2f\" % roc_auc7)\n",
    "plt.plot(fprab,tprab,\"g--\",label=\"ROC of Ada Boost= %0.2f\" % roc_auc8)\n",
    "plt.plot(fprgb,tprgb,\"b--\",label=\"ROC of Gradient Boost= %0.2f\" % roc_auc9)\n",
    "plt.rcParams.update({'font.size': 20})\n",
    "plt.legend(loc=\"lower right\")\n",
    "plt.plot([0, 1],[0, 1],\"r--\")\n",
    "plt.xlim([0, 1])\n",
    "plt.ylim([0, 1])\n",
    "plt.ylabel(\"True Positive Rate\")\n",
    "plt.xlabel(\"False Positive Rate\")\n",
    "\n",
    "plt.rc('axes', labelsize=15)\n",
    "plt.rc('axes', titlesize=22)"
   ]
  },
  {
   "cell_type": "markdown",
   "metadata": {},
   "source": [
    "# Hyperparameter Tuning using Random Search on any 3 Algorithms"
   ]
  },
  {
   "cell_type": "markdown",
   "metadata": {},
   "source": [
    "## Hyperparameter Tuning on K Nearest Neighbor using Random Search"
   ]
  },
  {
   "cell_type": "code",
   "execution_count": 48,
   "metadata": {
    "scrolled": true
   },
   "outputs": [
    {
     "name": "stdout",
     "output_type": "stream",
     "text": [
      "Accuracy of KNN after Hyperparameter Tuning (%): \n",
      " 75.7847533632287\n",
      "Recall of KNN after Hyperparameter Tuning is: \n",
      " 57.77777777777777\n",
      "Precision of KNN after Hyperparameter Tuning is: \n",
      " 76.47058823529412\n",
      "Best Score (%): \n",
      " 81.3177478954918\n",
      "Best Parameters: \n",
      " {'weights': 'uniform', 'p': 1, 'n_neighbors': 8, 'algorithm': 'kd_tree'}\n",
      "Best Estimators: \n",
      " KNeighborsClassifier(algorithm='kd_tree', leaf_size=30, metric='minkowski',\n",
      "                     metric_params=None, n_jobs=None, n_neighbors=8, p=1,\n",
      "                     weights='uniform')\n"
     ]
    },
    {
     "name": "stderr",
     "output_type": "stream",
     "text": [
      "E:\\Anaconda\\lib\\site-packages\\sklearn\\model_selection\\_search.py:813: DeprecationWarning: The default of the `iid` parameter will change from True to False in version 0.22 and will be removed in 0.24. This will change numeric results when test-set sizes are unequal.\n",
      "  DeprecationWarning)\n"
     ]
    }
   ],
   "source": [
    "from sklearn.model_selection import RandomizedSearchCV as rs\n",
    "# K Nearest Neighbor with random search\n",
    "parameters={\"algorithm\":['auto','ball_tree','kd_tree','brute'],\"n_neighbors\":range(1,10,1),\"p\":[1,2],\"weights\":[\"uniform\",\"distance\"]}\n",
    "clf_knn=KNeighborsClassifier()\n",
    "clfknnrs=rs(clf_knn,parameters,cv=5,scoring=\"precision\")\n",
    "clfknnrs.fit(trainX,trainy)\n",
    "predictions = clfknnrs.predict(testX)\n",
    "accknnrs=accuracy_score(testy, predictions)*100\n",
    "print(\"Accuracy of KNN after Hyperparameter Tuning (%): \\n\",accknnrs)  \n",
    "#get FPR\n",
    "fprknnrs, tprknnrs, _ = roc_curve(testy, predictions)\n",
    "#aucdtrs=auc(fprdtrs, tprdtrs)*100\n",
    "#print(\"AUC OF Decision Tree after Hyperparameter Tuning (%): \\n\",aucdtrs)\n",
    "recallknnrs=recall_score(testy,predictions)*100\n",
    "print(\"Recall of KNN after Hyperparameter Tuning is: \\n\",recallknnrs)\n",
    "precknnrs=precision_score(testy,predictions)*100\n",
    "print(\"Precision of KNN after Hyperparameter Tuning is: \\n\",precknnrs)\n",
    "\n",
    "#examnine the best model\n",
    "#single best score achieved accross all params\n",
    "print(\"Best Score (%): \\n\",clfknnrs.best_score_*100)\n",
    "#Dictionary Containing the parameters \n",
    "print(\"Best Parameters: \\n\",clfknnrs.best_params_)\n",
    "\n",
    "print(\"Best Estimators: \\n\",clfknnrs.best_estimator_)"
   ]
  },
  {
   "cell_type": "markdown",
   "metadata": {},
   "source": [
    "## Hyperparameter Tuning on Decision Tree using Random Search"
   ]
  },
  {
   "cell_type": "code",
   "execution_count": 49,
   "metadata": {},
   "outputs": [
    {
     "name": "stdout",
     "output_type": "stream",
     "text": [
      "Accuracy of Decision Tree after Hyperparameter Tuning (%): \n",
      " 76.23318385650224\n",
      "Recall of Decision Tree after Hyperparameter Tuning is: \n",
      " 57.77777777777777\n",
      "Precision of Decision Tree after Hyperparameter Tuning is: \n",
      " 77.61194029850746\n",
      "Best Score (%): \n",
      " 81.23441747083051\n",
      "Best Parameters: \n",
      " {'min_samples_split': 70, 'max_depth': 6}\n",
      "Best Estimators: \n",
      " DecisionTreeClassifier(class_weight=None, criterion='gini', max_depth=6,\n",
      "                       max_features=None, max_leaf_nodes=None,\n",
      "                       min_impurity_decrease=0.0, min_impurity_split=None,\n",
      "                       min_samples_leaf=1, min_samples_split=70,\n",
      "                       min_weight_fraction_leaf=0.0, presort=False,\n",
      "                       random_state=None, splitter='best')\n"
     ]
    },
    {
     "name": "stderr",
     "output_type": "stream",
     "text": [
      "E:\\Anaconda\\lib\\site-packages\\sklearn\\model_selection\\_search.py:813: DeprecationWarning: The default of the `iid` parameter will change from True to False in version 0.22 and will be removed in 0.24. This will change numeric results when test-set sizes are unequal.\n",
      "  DeprecationWarning)\n"
     ]
    }
   ],
   "source": [
    "from sklearn.model_selection import RandomizedSearchCV as rs\n",
    "# Decision Tree with random search\n",
    "parameters={\"min_samples_split\":range(10,200,10),\"max_depth\":range(1,20,1)}\n",
    "clf_treers=DecisionTreeClassifier()\n",
    "clfrs=rs(clf_treers,parameters,cv=5,scoring=\"precision\")\n",
    "clfrs.fit(trainX,trainy)\n",
    "predictions = clfrs.predict(testX)\n",
    "accdtrs=accuracy_score(testy, predictions)*100\n",
    "print(\"Accuracy of Decision Tree after Hyperparameter Tuning (%): \\n\",accdtrs)  \n",
    "#get FPR\n",
    "fprdtrs, tprdtrs, _ = roc_curve(testy, predictions)\n",
    "#aucdtrs=auc(fprdtrs, tprdtrs)*100\n",
    "#print(\"AUC OF Decision Tree after Hyperparameter Tuning (%): \\n\",aucdtrs)\n",
    "recalldtrs=recall_score(testy,predictions)*100\n",
    "print(\"Recall of Decision Tree after Hyperparameter Tuning is: \\n\",recalldtrs)\n",
    "precdtrs=precision_score(testy,predictions)*100\n",
    "print(\"Precision of Decision Tree after Hyperparameter Tuning is: \\n\",precdtrs)\n",
    "\n",
    "#examnine the best model\n",
    "#single best score achieved accross all params\n",
    "print(\"Best Score (%): \\n\",clfrs.best_score_*100)\n",
    "#Dictionary Containing the parameters \n",
    "print(\"Best Parameters: \\n\",clfrs.best_params_)\n",
    "\n",
    "print(\"Best Estimators: \\n\",clfrs.best_estimator_)"
   ]
  },
  {
   "cell_type": "markdown",
   "metadata": {},
   "source": [
    "## Hyperparameter Tuning on Neural Networks using Random Search"
   ]
  },
  {
   "cell_type": "code",
   "execution_count": 50,
   "metadata": {},
   "outputs": [
    {
     "name": "stderr",
     "output_type": "stream",
     "text": [
      "E:\\Anaconda\\lib\\site-packages\\sklearn\\neural_network\\multilayer_perceptron.py:566: ConvergenceWarning: Stochastic Optimizer: Maximum iterations (150) reached and the optimization hasn't converged yet.\n",
      "  % self.max_iter, ConvergenceWarning)\n",
      "E:\\Anaconda\\lib\\site-packages\\sklearn\\neural_network\\multilayer_perceptron.py:566: ConvergenceWarning: Stochastic Optimizer: Maximum iterations (100) reached and the optimization hasn't converged yet.\n",
      "  % self.max_iter, ConvergenceWarning)\n",
      "E:\\Anaconda\\lib\\site-packages\\sklearn\\neural_network\\multilayer_perceptron.py:566: ConvergenceWarning: Stochastic Optimizer: Maximum iterations (100) reached and the optimization hasn't converged yet.\n",
      "  % self.max_iter, ConvergenceWarning)\n",
      "E:\\Anaconda\\lib\\site-packages\\sklearn\\neural_network\\multilayer_perceptron.py:566: ConvergenceWarning: Stochastic Optimizer: Maximum iterations (100) reached and the optimization hasn't converged yet.\n",
      "  % self.max_iter, ConvergenceWarning)\n",
      "E:\\Anaconda\\lib\\site-packages\\sklearn\\neural_network\\multilayer_perceptron.py:566: ConvergenceWarning: Stochastic Optimizer: Maximum iterations (100) reached and the optimization hasn't converged yet.\n",
      "  % self.max_iter, ConvergenceWarning)\n",
      "E:\\Anaconda\\lib\\site-packages\\sklearn\\neural_network\\multilayer_perceptron.py:566: ConvergenceWarning: Stochastic Optimizer: Maximum iterations (100) reached and the optimization hasn't converged yet.\n",
      "  % self.max_iter, ConvergenceWarning)\n",
      "E:\\Anaconda\\lib\\site-packages\\sklearn\\neural_network\\multilayer_perceptron.py:566: ConvergenceWarning: Stochastic Optimizer: Maximum iterations (250) reached and the optimization hasn't converged yet.\n",
      "  % self.max_iter, ConvergenceWarning)\n",
      "E:\\Anaconda\\lib\\site-packages\\sklearn\\neural_network\\multilayer_perceptron.py:566: ConvergenceWarning: Stochastic Optimizer: Maximum iterations (250) reached and the optimization hasn't converged yet.\n",
      "  % self.max_iter, ConvergenceWarning)\n",
      "E:\\Anaconda\\lib\\site-packages\\sklearn\\neural_network\\multilayer_perceptron.py:566: ConvergenceWarning: Stochastic Optimizer: Maximum iterations (250) reached and the optimization hasn't converged yet.\n",
      "  % self.max_iter, ConvergenceWarning)\n",
      "E:\\Anaconda\\lib\\site-packages\\sklearn\\neural_network\\multilayer_perceptron.py:566: ConvergenceWarning: Stochastic Optimizer: Maximum iterations (250) reached and the optimization hasn't converged yet.\n",
      "  % self.max_iter, ConvergenceWarning)\n",
      "E:\\Anaconda\\lib\\site-packages\\sklearn\\neural_network\\multilayer_perceptron.py:566: ConvergenceWarning: Stochastic Optimizer: Maximum iterations (250) reached and the optimization hasn't converged yet.\n",
      "  % self.max_iter, ConvergenceWarning)\n",
      "E:\\Anaconda\\lib\\site-packages\\sklearn\\neural_network\\multilayer_perceptron.py:566: ConvergenceWarning: Stochastic Optimizer: Maximum iterations (150) reached and the optimization hasn't converged yet.\n",
      "  % self.max_iter, ConvergenceWarning)\n",
      "E:\\Anaconda\\lib\\site-packages\\sklearn\\neural_network\\multilayer_perceptron.py:566: ConvergenceWarning: Stochastic Optimizer: Maximum iterations (150) reached and the optimization hasn't converged yet.\n",
      "  % self.max_iter, ConvergenceWarning)\n",
      "E:\\Anaconda\\lib\\site-packages\\sklearn\\neural_network\\multilayer_perceptron.py:566: ConvergenceWarning: Stochastic Optimizer: Maximum iterations (150) reached and the optimization hasn't converged yet.\n",
      "  % self.max_iter, ConvergenceWarning)\n",
      "E:\\Anaconda\\lib\\site-packages\\sklearn\\neural_network\\multilayer_perceptron.py:566: ConvergenceWarning: Stochastic Optimizer: Maximum iterations (150) reached and the optimization hasn't converged yet.\n",
      "  % self.max_iter, ConvergenceWarning)\n",
      "E:\\Anaconda\\lib\\site-packages\\sklearn\\neural_network\\multilayer_perceptron.py:566: ConvergenceWarning: Stochastic Optimizer: Maximum iterations (150) reached and the optimization hasn't converged yet.\n",
      "  % self.max_iter, ConvergenceWarning)\n",
      "E:\\Anaconda\\lib\\site-packages\\sklearn\\model_selection\\_search.py:813: DeprecationWarning: The default of the `iid` parameter will change from True to False in version 0.22 and will be removed in 0.24. This will change numeric results when test-set sizes are unequal.\n",
      "  DeprecationWarning)\n"
     ]
    },
    {
     "name": "stdout",
     "output_type": "stream",
     "text": [
      "Accuracy of Neural Networks after Hyperparameter Tuning (%): \n",
      " 74.88789237668162\n",
      "Recall of Neural Networks after Hyperparameter Tuning is: \n",
      " 66.66666666666666\n",
      "Precision of Neural Networks after Hyperparameter Tuning is: \n",
      " 69.76744186046511\n",
      "Best Score (%): \n",
      " 81.09929259889287\n",
      "Best Parameters: \n",
      " {'solver': 'adam', 'max_iter': 150, 'learning_rate': 'invscaling', 'hidden_layer_sizes': 25, 'batch_size': 80, 'activation': 'tanh'}\n",
      "Best Estimators: \n",
      " MLPClassifier(activation='tanh', alpha=0.0001, batch_size=80, beta_1=0.9,\n",
      "              beta_2=0.999, early_stopping=False, epsilon=1e-08,\n",
      "              hidden_layer_sizes=25, learning_rate='invscaling',\n",
      "              learning_rate_init=0.001, max_iter=150, momentum=0.9,\n",
      "              n_iter_no_change=10, nesterovs_momentum=True, power_t=0.5,\n",
      "              random_state=None, shuffle=True, solver='adam', tol=0.0001,\n",
      "              validation_fraction=0.1, verbose=False, warm_start=False)\n"
     ]
    },
    {
     "name": "stderr",
     "output_type": "stream",
     "text": [
      "E:\\Anaconda\\lib\\site-packages\\sklearn\\neural_network\\multilayer_perceptron.py:566: ConvergenceWarning: Stochastic Optimizer: Maximum iterations (150) reached and the optimization hasn't converged yet.\n",
      "  % self.max_iter, ConvergenceWarning)\n"
     ]
    }
   ],
   "source": [
    "from sklearn.model_selection import RandomizedSearchCV as rs\n",
    "# Neural Networks with random search\n",
    "parameters={\"solver\":['lbfgs','sgd','adam'],\"hidden_layer_sizes\":range(1,100,1),\"batch_size\":range(50,250,10),\"max_iter\":range(100,500,50),\"learning_rate\":['constant', 'invscaling', 'adaptive'],\"activation\":['identity', 'logistic', 'tanh', 'relu']}\n",
    "clf_nn=MLPClassifier()\n",
    "clfnnrs=rs(clf_nn,parameters,cv=5,scoring=\"precision\")\n",
    "clfnnrs.fit(trainX,trainy)\n",
    "predictions = clfnnrs.predict(testX)\n",
    "accnnrs=accuracy_score(testy, predictions)*100\n",
    "print(\"Accuracy of Neural Networks after Hyperparameter Tuning (%): \\n\",accnnrs)  \n",
    "#get FPR\n",
    "fprnnrs, tprnnrs, _ = roc_curve(testy, predictions)\n",
    "#aucdtrs=auc(fprdtrs, tprdtrs)*100\n",
    "#print(\"AUC OF Decision Tree after Hyperparameter Tuning (%): \\n\",aucdtrs)\n",
    "recallnnrs=recall_score(testy,predictions)*100\n",
    "print(\"Recall of Neural Networks after Hyperparameter Tuning is: \\n\",recallnnrs)\n",
    "precnnrs=precision_score(testy,predictions)*100\n",
    "print(\"Precision of Neural Networks after Hyperparameter Tuning is: \\n\",precnnrs)\n",
    "\n",
    "#examnine the best model\n",
    "#single best score achieved accross all params\n",
    "print(\"Best Score (%): \\n\",clfnnrs.best_score_*100)\n",
    "#Dictionary Containing the parameters \n",
    "print(\"Best Parameters: \\n\",clfnnrs.best_params_)\n",
    "\n",
    "print(\"Best Estimators: \\n\",clfnnrs.best_estimator_)"
   ]
  },
  {
   "cell_type": "markdown",
   "metadata": {},
   "source": [
    "# ROC Graph after Hyperparameter Tuning using Random Search"
   ]
  },
  {
   "cell_type": "code",
   "execution_count": 51,
   "metadata": {},
   "outputs": [
    {
     "data": {
      "image/png": "[encoded data removed]",
      "text/plain": [
       "<Figure size 1080x720 with 1 Axes>"
      ]
     },
     "metadata": {
      "needs_background": "light"
     },
     "output_type": "display_data"
    }
   ],
   "source": [
    "import sklearn.metrics as metrics\n",
    "roc_auc1=metrics.auc(fprknnrs,tprknnrs)\n",
    "roc_auc2=metrics.auc(fprdtrs,tprdtrs)\n",
    "roc_auc3=metrics.auc(fprnnrs,tprnnrs)\n",
    "\n",
    "# Method-I: PLot\n",
    "import matplotlib.pyplot as plt\n",
    "%matplotlib inline\n",
    "plt.figure(figsize=(15,10))\n",
    "plt.title(\"Receiver Operating Curve\")\n",
    "plt.plot(fprknnrs,tprknnrs,\"b\",label=\"ROC of KNN after RS= %0.2f\" % roc_auc1)\n",
    "plt.plot(fprdtrs,tprdtrs,\"r\",label=\"ROC of Decision Tree after RS= %0.2f\" % roc_auc2)\n",
    "plt.plot(fprnnrs,tprnnrs,\"g\",label=\"ROC of Neural Networks after RS= %0.2f\" % roc_auc3)\n",
    "\n",
    "plt.legend(loc=\"lower right\")\n",
    "plt.plot([0, 1],[0, 1],\"r--\")\n",
    "plt.xlim([0, 1])\n",
    "plt.ylim([0, 1])\n",
    "plt.ylabel(\"True Positive Rate\")\n",
    "plt.xlabel(\"False Positive Rate\")\n",
    "\n",
    "plt.rcParams.update({'font.size': 15})\n",
    "plt.rc('axes', labelsize=15)\n",
    "plt.rc('axes', titlesize=22)"
   ]
  },
  {
   "cell_type": "markdown",
   "metadata": {},
   "source": [
    "# Comparision of 3 algorithms before and after hyperparameter tuning"
   ]
  },
  {
   "cell_type": "code",
   "execution_count": 52,
   "metadata": {},
   "outputs": [
    {
     "data": {
      "text/html": [
       "<div>\n",
       "<style scoped>\n",
       "    .dataframe tbody tr th:only-of-type {\n",
       "        vertical-align: middle;\n",
       "    }\n",
       "\n",
       "    .dataframe tbody tr th {\n",
       "        vertical-align: top;\n",
       "    }\n",
       "\n",
       "    .dataframe thead th {\n",
       "        text-align: right;\n",
       "    }\n",
       "</style>\n",
       "<table border=\"1\" class=\"dataframe\">\n",
       "  <thead>\n",
       "    <tr style=\"text-align: right;\">\n",
       "      <th></th>\n",
       "      <th>Algorithms</th>\n",
       "      <th>Accuracies before RS</th>\n",
       "      <th>Recall before RS</th>\n",
       "      <th>Precision before RS</th>\n",
       "    </tr>\n",
       "  </thead>\n",
       "  <tbody>\n",
       "    <tr>\n",
       "      <th>1</th>\n",
       "      <td>Neural Networks</td>\n",
       "      <td>77.130045</td>\n",
       "      <td>63.333333</td>\n",
       "      <td>76.000000</td>\n",
       "    </tr>\n",
       "    <tr>\n",
       "      <th>0</th>\n",
       "      <td>K Nearest Neighbor</td>\n",
       "      <td>76.681614</td>\n",
       "      <td>74.444444</td>\n",
       "      <td>69.791667</td>\n",
       "    </tr>\n",
       "    <tr>\n",
       "      <th>2</th>\n",
       "      <td>Decision Tree</td>\n",
       "      <td>76.681614</td>\n",
       "      <td>71.111111</td>\n",
       "      <td>71.111111</td>\n",
       "    </tr>\n",
       "  </tbody>\n",
       "</table>\n",
       "</div>"
      ],
      "text/plain": [
       "           Algorithms  Accuracies before RS  Recall before RS  \\\n",
       "1     Neural Networks             77.130045         63.333333   \n",
       "0  K Nearest Neighbor             76.681614         74.444444   \n",
       "2       Decision Tree             76.681614         71.111111   \n",
       "\n",
       "   Precision before RS  \n",
       "1            76.000000  \n",
       "0            69.791667  \n",
       "2            71.111111  "
      ]
     },
     "metadata": {},
     "output_type": "display_data"
    },
    {
     "data": {
      "text/html": [
       "<div>\n",
       "<style scoped>\n",
       "    .dataframe tbody tr th:only-of-type {\n",
       "        vertical-align: middle;\n",
       "    }\n",
       "\n",
       "    .dataframe tbody tr th {\n",
       "        vertical-align: top;\n",
       "    }\n",
       "\n",
       "    .dataframe thead th {\n",
       "        text-align: right;\n",
       "    }\n",
       "</style>\n",
       "<table border=\"1\" class=\"dataframe\">\n",
       "  <thead>\n",
       "    <tr style=\"text-align: right;\">\n",
       "      <th></th>\n",
       "      <th>Algorithms</th>\n",
       "      <th>Accuracies after RS</th>\n",
       "      <th>Recall after RS</th>\n",
       "      <th>Precision after RS</th>\n",
       "    </tr>\n",
       "  </thead>\n",
       "  <tbody>\n",
       "    <tr>\n",
       "      <th>2</th>\n",
       "      <td>Decision Tree</td>\n",
       "      <td>76.233184</td>\n",
       "      <td>57.777778</td>\n",
       "      <td>77.611940</td>\n",
       "    </tr>\n",
       "    <tr>\n",
       "      <th>0</th>\n",
       "      <td>K Nearest Neighbor</td>\n",
       "      <td>75.784753</td>\n",
       "      <td>57.777778</td>\n",
       "      <td>76.470588</td>\n",
       "    </tr>\n",
       "    <tr>\n",
       "      <th>1</th>\n",
       "      <td>Neural Networks</td>\n",
       "      <td>74.887892</td>\n",
       "      <td>66.666667</td>\n",
       "      <td>69.767442</td>\n",
       "    </tr>\n",
       "  </tbody>\n",
       "</table>\n",
       "</div>"
      ],
      "text/plain": [
       "           Algorithms  Accuracies after RS  Recall after RS  \\\n",
       "2       Decision Tree            76.233184        57.777778   \n",
       "0  K Nearest Neighbor            75.784753        57.777778   \n",
       "1     Neural Networks            74.887892        66.666667   \n",
       "\n",
       "   Precision after RS  \n",
       "2           77.611940  \n",
       "0           76.470588  \n",
       "1           69.767442  "
      ]
     },
     "metadata": {},
     "output_type": "display_data"
    }
   ],
   "source": [
    "algos1=[\"K Nearest Neighbor\",\"Neural Networks\",\"Decision Tree\"]\n",
    "acc1=[accknn,accnn,accdt]\n",
    "recall1=[recallknn,recallnn,recalldt]\n",
    "prec1=[precknn,precnn,precdt]\n",
    "comp1={\"Algorithms\":algos1,\"Accuracies before RS\":acc1,\"Recall before RS\":recall1,\"Precision before RS\":prec1}\n",
    "compdf1=pd.DataFrame(comp1)\n",
    "display(compdf1.sort_values(by=[\"Accuracies before RS\",\"Recall before RS\",\"Precision before RS\"], ascending=False))\n",
    "acc2=[accknnrs,accnnrs,accdtrs]\n",
    "recall2=[recallknnrs,recallnnrs,recalldtrs]\n",
    "prec2=[precknnrs,precnnrs,precdtrs]\n",
    "comp2={\"Algorithms\":algos1,\"Accuracies after RS\":acc2,\"Recall after RS\":recall2,\"Precision after RS\":prec2}\n",
    "compdf2=pd.DataFrame(comp2)\n",
    "display(compdf2.sort_values(by=[\"Accuracies after RS\",\"Recall after RS\",\"Precision after RS\"], ascending=False))"
   ]
  }
 ],
 "metadata": {
  "kernelspec": {
   "display_name": "Python 3",
   "language": "python",
   "name": "python3"
  },
  "language_info": {
   "codemirror_mode": {
    "name": "ipython",
    "version": 3
   },
   "file_extension": ".py",
   "mimetype": "text/x-python",
   "name": "python",
   "nbconvert_exporter": "python",
   "pygments_lexer": "ipython3",
   "version": "3.7.3"
  }
 },
 "nbformat": 4,
 "nbformat_minor": 2
}
